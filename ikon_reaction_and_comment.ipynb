{
 "cells": [
  {
   "cell_type": "code",
   "execution_count": 1,
   "id": "f594cd63",
   "metadata": {},
   "outputs": [],
   "source": [
    "import chompjs\n",
    "import requests, time\n",
    "from bs4 import BeautifulSoup"
   ]
  },
  {
   "cell_type": "code",
   "execution_count": 2,
   "id": "0c7e0495",
   "metadata": {},
   "outputs": [],
   "source": [
    "def request_soup(link: str) -> BeautifulSoup:\n",
    "    \"\"\"\n",
    "    Create send request & return parset tree from BS4\n",
    "    \"\"\"\n",
    "    res = requests.get(link)\n",
    "    print(\"Status code:\", res.status_code)\n",
    "    return BeautifulSoup(res.text, 'html.parser')"
   ]
  },
  {
   "cell_type": "code",
   "execution_count": 3,
   "id": "ba0668b7",
   "metadata": {},
   "outputs": [
    {
     "name": "stdout",
     "output_type": "stream",
     "text": [
      "\n",
      "reaction_link: https://ikon.mn/reaction/106212\n",
      "comment_link: https://ikon.mn/c/106212?tp=news&cp=1626369312008\n",
      "\n"
     ]
    }
   ],
   "source": [
    "root_link = \"https://ikon.mn\"\n",
    "news_id = \"106212\"\n",
    "\n",
    "reaction_link = f\"{root_link}/reaction/{news_id}\"\n",
    "comment_link = f'{root_link}/c/{news_id}?tp=news&cp={int(time.time() * 1000)}'\n",
    "\n",
    "print(f\"\"\"\n",
    "reaction_link: {reaction_link}\n",
    "comment_link: {comment_link}\n",
    "\"\"\")"
   ]
  },
  {
   "cell_type": "markdown",
   "id": "c5d143bc",
   "metadata": {},
   "source": [
    "### Reaction Retrieval"
   ]
  },
  {
   "cell_type": "code",
   "execution_count": 4,
   "id": "e798da8b",
   "metadata": {},
   "outputs": [
    {
     "name": "stdout",
     "output_type": "stream",
     "text": [
      "Status code: 200\n"
     ]
    }
   ],
   "source": [
    "soup = request_soup(reaction_link)"
   ]
  },
  {
   "cell_type": "code",
   "execution_count": 5,
   "id": "48b4accd",
   "metadata": {},
   "outputs": [],
   "source": [
    "values = [div.text.strip() for div in soup.findAll(\"div\",{\"class\":\"value\"})]\n",
    "values = [int(v) if v!=\"\" else 0 for v in values]\n",
    "keys = [div.attrs['rtext'].strip() for div in soup.findAll(\"div\",{\"class\":\"vote\"})]"
   ]
  },
  {
   "cell_type": "code",
   "execution_count": 11,
   "id": "629984b1",
   "metadata": {
    "scrolled": true
   },
   "outputs": [
    {
     "data": {
      "text/plain": [
       "{'ТЭНЭГЛЭЛ': 4,\n",
       " 'ХӨӨРХӨН ЮМ': 2,\n",
       " 'ГАЙХМААР': 1,\n",
       " 'ЗӨВ, ГОЁ': 0,\n",
       " 'САВЖ УНАЛАА': 0,\n",
       " 'БАХАРХМААР': 0,\n",
       " 'ХАРАМСАЛТАЙ': 0,\n",
       " 'БУРУУ': 0}"
      ]
     },
     "execution_count": 11,
     "metadata": {},
     "output_type": "execute_result"
    }
   ],
   "source": [
    "reaction = dict(zip(keys,values))\n",
    "reaction"
   ]
  },
  {
   "cell_type": "markdown",
   "id": "300c4d60",
   "metadata": {},
   "source": [
    "### Comments"
   ]
  },
  {
   "cell_type": "code",
   "execution_count": 7,
   "id": "a9be25fe",
   "metadata": {},
   "outputs": [
    {
     "name": "stdout",
     "output_type": "stream",
     "text": [
      "Status code: 200\n"
     ]
    }
   ],
   "source": [
    "soup = request_soup(comment_link)"
   ]
  },
  {
   "cell_type": "code",
   "execution_count": 12,
   "id": "5144cf5e",
   "metadata": {},
   "outputs": [],
   "source": [
    "comments_js = \"\"\n",
    "for script in soup.find_all(\"script\"): #,{\"class\":\"value\"}\n",
    "    child = next(script.children)\n",
    "#     print(child)\n",
    "    if \"comments =\" in child:\n",
    "        comments_js = str(child)\n",
    "        break\n",
    "\n",
    "\n",
    "comment = chompjs.parse_js_object(comments_js)"
   ]
  },
  {
   "cell_type": "code",
   "execution_count": 13,
   "id": "0fdfa159",
   "metadata": {},
   "outputs": [
    {
     "data": {
      "text/plain": [
       "[{'id': 1470827,\n",
       "  'name': 'uhmeer bn u?!',\n",
       "  'comment': 'https//www_openvaers_com/covid-data/covid-full-data',\n",
       "  'ip': '193.32.127.238',\n",
       "  'lvl': 0,\n",
       "  'date': '07/13/2021 13:23:41',\n",
       "  'pid': '0',\n",
       "  'newsid': '106212',\n",
       "  'tup': 0,\n",
       "  'tdn': 0,\n",
       "  'rcount': 0,\n",
       "  'tp': 0},\n",
       " {'id': 1470769,\n",
       "  'name': 'Зочин',\n",
       "  'comment': 'Хееэ, дархлаажаад байгаа юм алгашд. Едер бур халдвар. ухэл',\n",
       "  'ip': '202.9.46.249',\n",
       "  'lvl': 0,\n",
       "  'date': '07/13/2021 12:10:59',\n",
       "  'pid': '0',\n",
       "  'newsid': '106212',\n",
       "  'tup': 3,\n",
       "  'tdn': 0,\n",
       "  'rcount': 0,\n",
       "  'tp': 0},\n",
       " {'id': 1470687,\n",
       "  'name': 'Зочин',\n",
       "  'comment': 'файзер тасраад 15 хонолоо! дарга нар наадсаар!',\n",
       "  'ip': '150.129.142.5',\n",
       "  'lvl': 0,\n",
       "  'date': '07/13/2021 10:38:40',\n",
       "  'pid': '0',\n",
       "  'newsid': '106212',\n",
       "  'tup': 4,\n",
       "  'tdn': 2,\n",
       "  'rcount': 1,\n",
       "  'tp': 0},\n",
       " {'id': 1470672,\n",
       "  'name': 'МОНГОЛ АРДЫН НАМЫН ГИШҮҮН',\n",
       "  'comment': 'Муу лалруудад хятад вакцин шааж хурдан үхүүлэх хэрэгтэй тэгэхгүй бол Сү.Батболдын хөрөнгийг хураа, Монгол Ардын Намыг тараа гээд жагсаж эхлэнэ шүү.',\n",
       "  'ip': '199.249.230.147',\n",
       "  'lvl': 0,\n",
       "  'date': '07/13/2021 10:21:46',\n",
       "  'pid': '0',\n",
       "  'newsid': '106212',\n",
       "  'tup': 1,\n",
       "  'tdn': 6,\n",
       "  'rcount': 0,\n",
       "  'tp': 0},\n",
       " {'id': 1470670,\n",
       "  'name': 'Зочин',\n",
       "  'comment': 'Вакцинжуулалт гэж бич ядаж',\n",
       "  'ip': '202.9.46.249',\n",
       "  'lvl': 0,\n",
       "  'date': '07/13/2021 10:21:04',\n",
       "  'pid': '0',\n",
       "  'newsid': '106212',\n",
       "  'tup': 4,\n",
       "  'tdn': 0,\n",
       "  'rcount': 0,\n",
       "  'tp': 0},\n",
       " {'id': 1470665,\n",
       "  'name': 'enhee',\n",
       "  'comment': 'ali oirdoo ochood hiilgechij bolno bizdee',\n",
       "  'ip': '66.181.161.57',\n",
       "  'lvl': 0,\n",
       "  'date': '07/13/2021 10:15:00',\n",
       "  'pid': '0',\n",
       "  'newsid': '106212',\n",
       "  'tup': 2,\n",
       "  'tdn': 1,\n",
       "  'rcount': 0,\n",
       "  'tp': 0},\n",
       " {'id': 1470696,\n",
       "  'name': 'Зочин',\n",
       "  'comment': 'Тэр хороор яах гэсэн юм. Өндөр тунтай хор шахуулах дуртай юм.',\n",
       "  'ip': '122.201.24.121',\n",
       "  'lvl': 1,\n",
       "  'date': '07/13/2021 10:44:14',\n",
       "  'pid': '1470687',\n",
       "  'newsid': '106212',\n",
       "  'tup': 4,\n",
       "  'tdn': 5,\n",
       "  'rcount': 1,\n",
       "  'tp': 0},\n",
       " {'id': 1470707,\n",
       "  'name': 'Зочин',\n",
       "  'comment': 'Хужаа хор ч ялгаагүй',\n",
       "  'ip': '202.9.46.249',\n",
       "  'lvl': 2,\n",
       "  'date': '07/13/2021 10:53:49',\n",
       "  'pid': '1470696',\n",
       "  'newsid': '106212',\n",
       "  'tup': 4,\n",
       "  'tdn': 0,\n",
       "  'rcount': 0,\n",
       "  'tp': 0}]"
      ]
     },
     "execution_count": 13,
     "metadata": {},
     "output_type": "execute_result"
    }
   ],
   "source": [
    "comment"
   ]
  }
 ],
 "metadata": {
  "kernelspec": {
   "display_name": "Python 3",
   "language": "python",
   "name": "python3"
  },
  "language_info": {
   "codemirror_mode": {
    "name": "ipython",
    "version": 3
   },
   "file_extension": ".py",
   "mimetype": "text/x-python",
   "name": "python",
   "nbconvert_exporter": "python",
   "pygments_lexer": "ipython3",
   "version": "3.7.10"
  }
 },
 "nbformat": 4,
 "nbformat_minor": 5
}
